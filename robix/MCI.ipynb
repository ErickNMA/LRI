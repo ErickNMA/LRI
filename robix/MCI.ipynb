{
 "cells": [
  {
   "cell_type": "markdown",
   "metadata": {},
   "source": [
    "<h1 align='center'> Modelo Cinemático Inverso <h1>"
   ]
  },
  {
   "cell_type": "code",
   "execution_count": 1,
   "metadata": {},
   "outputs": [],
   "source": [
    "import numpy as np"
   ]
  },
  {
   "cell_type": "code",
   "execution_count": 2,
   "metadata": {},
   "outputs": [],
   "source": [
    "def right_elbow(x, y, z):\n",
    "    # Para theta 3:\n",
    "    q = np.sqrt((104**2) + (10**2))\n",
    "    gamma = np.arctan2(10, 104)\n",
    "    se = ((z-127-10)/(q))   \n",
    "    epsilon = np.arctan2(se, np.sqrt(1-(se**2)))\n",
    "    theta3 = (gamma + epsilon)\n",
    "\n",
    "    # Para theta 1:\n",
    "    j = ((104*np.cos(theta3)) - (10*np.sin(theta3)))\n",
    "    print(f'j = {j:.2f}')\n",
    "    r = np.sqrt((x**2) + (y**2))\n",
    "    print(f'r = {r:.2f}')\n",
    "    alpha = np.arctan2(y, x)\n",
    "    print(f'alpha = {np.degrees(alpha):.2f}')\n",
    "    h = np.sqrt((30**2) + ((76+j)**2))\n",
    "    print(f'h = {h:.2f}')\n",
    "    cb = (((r**2) + (79**2) - (h**2))/(2*r*79))\n",
    "    print(f'cb = {cb:.2f}')\n",
    "    beta = np.arctan2(np.sqrt(1-(cb**2)), cb)\n",
    "    print(f'beta = {np.degrees(beta):.2f}')\n",
    "    theta1 = (alpha + beta)\n",
    "\n",
    "    # Para theta 2:\n",
    "    phi = np.arctan2(30, (76+j))\n",
    "    cg = (((79**2) + (h**2) - (r**2))/(2*79*h))\n",
    "    gamma = np.arctan2(np.sqrt(1-(cg**2)), cg)\n",
    "    theta2 = (np.pi - gamma - phi)\n",
    "\n",
    "    return np.degrees(theta1), np.degrees(theta2), np.degrees(theta3)\n",
    "\n",
    "\n",
    "\n",
    "def left_elbow(x, y, z):\n",
    "    # Para theta 3:\n",
    "    q = np.sqrt((104**2) + (10**2))\n",
    "    gamma = np.arctan2(10, 104)\n",
    "    se = ((z-127-10)/(q))\n",
    "    epsilon = np.arctan2(se, np.sqrt(1-(se**2)))\n",
    "    theta3 = (gamma + epsilon)\n",
    "\n",
    "    # Para theta 1:\n",
    "    j = ((104*np.cos(theta3)) - (10*np.sin(theta3)))\n",
    "    r = np.sqrt((x**2) + (y**2))\n",
    "    alpha = np.arctan2(y, x)\n",
    "    h = np.sqrt((30**2) + ((76+j)**2))\n",
    "    cb = (((r**2) + (79**2) - (h**2))/(2*r*79))\n",
    "    beta = np.arctan2(np.sqrt(1-(cb**2)), cb)\n",
    "    theta1 = -(alpha + beta)\n",
    "\n",
    "    # Para theta 2:\n",
    "    phi = np.arctan2(30, 76)\n",
    "    cg = (((79**2) + (h**2) - (r**2))/(2*79*h))\n",
    "    gamma = np.arctan2(np.sqrt(1-(cg**2)), cg)\n",
    "    theta2 = (gamma - phi - np.pi)\n",
    "\n",
    "    return np.degrees(theta1), np.degrees(theta2), np.degrees(theta3)"
   ]
  },
  {
   "cell_type": "markdown",
   "metadata": {},
   "source": [
    "<h3 align='center'> Quadrante Superior Direito: <h3>"
   ]
  },
  {
   "cell_type": "code",
   "execution_count": 3,
   "metadata": {},
   "outputs": [
    {
     "name": "stdout",
     "output_type": "stream",
     "text": [
      "j = 86.41\n",
      "r = 248.01\n",
      "alpha = -31.22\n",
      "h = 165.16\n",
      "cb = 1.03\n",
      "beta = nan\n",
      "                         𝜽₁         𝜽₂         𝜽₃    \n",
      " Cotovelo direito:      nan°       nan°      28.71°  \n"
     ]
    },
    {
     "name": "stderr",
     "output_type": "stream",
     "text": [
      "/tmp/ipykernel_7174/2997419513.py:20: RuntimeWarning: invalid value encountered in sqrt\n",
      "  beta = np.arctan2(np.sqrt(1-(cb**2)), cb)\n",
      "/tmp/ipykernel_7174/2997419513.py:27: RuntimeWarning: invalid value encountered in sqrt\n",
      "  gamma = np.arctan2(np.sqrt(1-(cg**2)), cg)\n"
     ]
    },
    {
     "ename": "NameError",
     "evalue": "name 'sol_e' is not defined",
     "output_type": "error",
     "traceback": [
      "\u001b[0;31m---------------------------------------------------------------------------\u001b[0m",
      "\u001b[0;31mNameError\u001b[0m                                 Traceback (most recent call last)",
      "Cell \u001b[0;32mIn[3], line 6\u001b[0m\n\u001b[1;32m      4\u001b[0m \u001b[39mprint\u001b[39m(\u001b[39m'\u001b[39m\u001b[39m'\u001b[39m\u001b[39m.\u001b[39mcenter(\u001b[39m20\u001b[39m), \u001b[39m'\u001b[39m\u001b[39m𝜽₁\u001b[39m\u001b[39m'\u001b[39m\u001b[39m.\u001b[39mcenter(\u001b[39m10\u001b[39m), \u001b[39m'\u001b[39m\u001b[39m𝜽₂\u001b[39m\u001b[39m'\u001b[39m\u001b[39m.\u001b[39mcenter(\u001b[39m10\u001b[39m), \u001b[39m'\u001b[39m\u001b[39m𝜽₃\u001b[39m\u001b[39m'\u001b[39m\u001b[39m.\u001b[39mcenter(\u001b[39m10\u001b[39m))\n\u001b[1;32m      5\u001b[0m \u001b[39mprint\u001b[39m(\u001b[39m'\u001b[39m\u001b[39mCotovelo direito:\u001b[39m\u001b[39m'\u001b[39m\u001b[39m.\u001b[39mcenter(\u001b[39m20\u001b[39m), \u001b[39mf\u001b[39m\u001b[39m'\u001b[39m\u001b[39m{\u001b[39;00m\u001b[39mstr\u001b[39m(\u001b[39mround\u001b[39m(sol_d[\u001b[39m0\u001b[39m],\u001b[39m \u001b[39m\u001b[39m2\u001b[39m))\u001b[39m:\u001b[39;00m\u001b[39m.6\u001b[39m\u001b[39m}\u001b[39;00m\u001b[39m°\u001b[39m\u001b[39m'\u001b[39m\u001b[39m.\u001b[39mcenter(\u001b[39m10\u001b[39m), \u001b[39mf\u001b[39m\u001b[39m'\u001b[39m\u001b[39m{\u001b[39;00m\u001b[39mstr\u001b[39m(\u001b[39mround\u001b[39m(sol_d[\u001b[39m1\u001b[39m],\u001b[39m \u001b[39m\u001b[39m2\u001b[39m))\u001b[39m:\u001b[39;00m\u001b[39m.6\u001b[39m\u001b[39m}\u001b[39;00m\u001b[39m°\u001b[39m\u001b[39m'\u001b[39m\u001b[39m.\u001b[39mcenter(\u001b[39m10\u001b[39m), \u001b[39mf\u001b[39m\u001b[39m'\u001b[39m\u001b[39m{\u001b[39;00m\u001b[39mstr\u001b[39m(\u001b[39mround\u001b[39m(sol_d[\u001b[39m2\u001b[39m],\u001b[39m \u001b[39m\u001b[39m2\u001b[39m))\u001b[39m:\u001b[39;00m\u001b[39m.6\u001b[39m\u001b[39m}\u001b[39;00m\u001b[39m°\u001b[39m\u001b[39m'\u001b[39m\u001b[39m.\u001b[39mcenter(\u001b[39m10\u001b[39m))\n\u001b[0;32m----> 6\u001b[0m \u001b[39mprint\u001b[39m(\u001b[39m'\u001b[39m\u001b[39mCotovelo esquerdo:\u001b[39m\u001b[39m'\u001b[39m\u001b[39m.\u001b[39mcenter(\u001b[39m20\u001b[39m), \u001b[39mf\u001b[39m\u001b[39m'\u001b[39m\u001b[39m{\u001b[39;00m\u001b[39mstr\u001b[39m(\u001b[39mround\u001b[39m(sol_e[\u001b[39m0\u001b[39m],\u001b[39m \u001b[39m\u001b[39m2\u001b[39m))\u001b[39m:\u001b[39;00m\u001b[39m.6\u001b[39m\u001b[39m}\u001b[39;00m\u001b[39m°\u001b[39m\u001b[39m'\u001b[39m\u001b[39m.\u001b[39mcenter(\u001b[39m10\u001b[39m), \u001b[39mf\u001b[39m\u001b[39m'\u001b[39m\u001b[39m{\u001b[39;00m\u001b[39mstr\u001b[39m(\u001b[39mround\u001b[39m(sol_e[\u001b[39m1\u001b[39m],\u001b[39m \u001b[39m\u001b[39m2\u001b[39m))\u001b[39m:\u001b[39;00m\u001b[39m.6\u001b[39m\u001b[39m}\u001b[39;00m\u001b[39m°\u001b[39m\u001b[39m'\u001b[39m\u001b[39m.\u001b[39mcenter(\u001b[39m10\u001b[39m), \u001b[39mf\u001b[39m\u001b[39m'\u001b[39m\u001b[39m{\u001b[39;00m\u001b[39mstr\u001b[39m(\u001b[39mround\u001b[39m(sol_e[\u001b[39m2\u001b[39m],\u001b[39m \u001b[39m\u001b[39m2\u001b[39m))\u001b[39m:\u001b[39;00m\u001b[39m.6\u001b[39m\u001b[39m}\u001b[39;00m\u001b[39m°\u001b[39m\u001b[39m'\u001b[39m\u001b[39m.\u001b[39mcenter(\u001b[39m10\u001b[39m))\n",
      "\u001b[0;31mNameError\u001b[0m: name 'sol_e' is not defined"
     ]
    }
   ],
   "source": [
    "sol_d = right_elbow(212.106, -128.533, 178.189)\n",
    "#sol_d = right_elbow(259, 0, 100)\n",
    "#sol_e = left_elbow(212.106, -128.533, 178.189)\n",
    "print(''.center(20), '𝜽₁'.center(10), '𝜽₂'.center(10), '𝜽₃'.center(10))\n",
    "print('Cotovelo direito:'.center(20), f'{str(round(sol_d[0], 2)):.6}°'.center(10), f'{str(round(sol_d[1], 2)):.6}°'.center(10), f'{str(round(sol_d[2], 2)):.6}°'.center(10))\n",
    "print('Cotovelo esquerdo:'.center(20), f'{str(round(sol_e[0], 2)):.6}°'.center(10), f'{str(round(sol_e[1], 2)):.6}°'.center(10), f'{str(round(sol_e[2], 2)):.6}°'.center(10))"
   ]
  },
  {
   "cell_type": "markdown",
   "metadata": {},
   "source": [
    "<h3 align='center'> Quadrante Inferior Esquerdo: <h3>"
   ]
  },
  {
   "cell_type": "code",
   "execution_count": null,
   "metadata": {},
   "outputs": [],
   "source": [
    "sol_d = right_elbow(160.093, 136.607, 47.347)\n",
    "sol_e = left_elbow(160.093, 136.607, 47.347)\n",
    "print(''.center(20), '𝜽₁'.center(10), '𝜽₂'.center(10), '𝜽₃'.center(10))\n",
    "print('Cotovelo direito:'.center(20), f'{str(round(sol_d[0], 2)):.6}°'.center(10), f'{str(round(sol_d[1], 2)):.6}°'.center(10), f'{str(round(sol_d[2], 2)):.6}°'.center(10))\n",
    "print('Cotovelo esquerdo:'.center(20), f'{str(round(sol_e[0], 2)):.6}°'.center(10), f'{str(round(sol_e[1], 2)):.6}°'.center(10), f'{str(round(sol_e[2], 2)):.6}°'.center(10))"
   ]
  },
  {
   "cell_type": "markdown",
   "metadata": {},
   "source": [
    "<h3 align='center'> Quadrante Superior Esquerdo: <h3>"
   ]
  },
  {
   "cell_type": "code",
   "execution_count": null,
   "metadata": {},
   "outputs": [],
   "source": [
    "sol_d = right_elbow(143.47, 194.223, 177.366)\n",
    "sol_e = left_elbow(143.47, 194.223, 177.366)\n",
    "print(''.center(20), '𝜽₁'.center(10), '𝜽₂'.center(10), '𝜽₃'.center(10))\n",
    "print('Cotovelo direito:'.center(20), f'{str(round(sol_d[0], 2)):.6}°'.center(10), f'{str(round(sol_d[1], 2)):.6}°'.center(10), f'{str(round(sol_d[2], 2)):.6}°'.center(10))\n",
    "print('Cotovelo esquerdo:'.center(20), f'{str(round(sol_e[0], 2)):.6}°'.center(10), f'{str(round(sol_e[1], 2)):.6}°'.center(10), f'{str(round(sol_e[2], 2)):.6}°'.center(10))"
   ]
  },
  {
   "cell_type": "markdown",
   "metadata": {},
   "source": [
    "<h3 align='center'> Quadrante Inferior Direito: <h3>"
   ]
  },
  {
   "cell_type": "code",
   "execution_count": null,
   "metadata": {},
   "outputs": [],
   "source": [
    "sol_d = right_elbow(183.216, -104.49, 47.347)\n",
    "sol_e = left_elbow(183.216, -104.49, 47.347)\n",
    "print(''.center(20), '𝜽₁'.center(10), '𝜽₂'.center(10), '𝜽₃'.center(10))\n",
    "print('Cotovelo direito:'.center(20), f'{str(round(sol_d[0], 2)):.6}°'.center(10), f'{str(round(sol_d[1], 2)):.6}°'.center(10), f'{str(round(sol_d[2], 2)):.6}°'.center(10))\n",
    "print('Cotovelo esquerdo:'.center(20), f'{str(round(sol_e[0], 2)):.6}°'.center(10), f'{str(round(sol_e[1], 2)):.6}°'.center(10), f'{str(round(sol_e[2], 2)):.6}°'.center(10))"
   ]
  }
 ],
 "metadata": {
  "kernelspec": {
   "display_name": "Python 3",
   "language": "python",
   "name": "python3"
  },
  "language_info": {
   "codemirror_mode": {
    "name": "ipython",
    "version": 3
   },
   "file_extension": ".py",
   "mimetype": "text/x-python",
   "name": "python",
   "nbconvert_exporter": "python",
   "pygments_lexer": "ipython3",
   "version": "3.10.12"
  },
  "orig_nbformat": 4
 },
 "nbformat": 4,
 "nbformat_minor": 2
}

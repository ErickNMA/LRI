{
 "cells": [
  {
   "cell_type": "markdown",
   "metadata": {},
   "source": [
    "<h1 align='center'> Modelo Cinemático Inverso <h1>"
   ]
  },
  {
   "cell_type": "code",
   "execution_count": 1,
   "metadata": {},
   "outputs": [],
   "source": [
    "import numpy as np"
   ]
  },
  {
   "cell_type": "code",
   "execution_count": 2,
   "metadata": {},
   "outputs": [],
   "source": [
    "def right_elbow(x, y, z, k1, k2):\n",
    "    # Para theta 3:\n",
    "    q = np.sqrt((104**2) + (10**2))\n",
    "    gamma = np.arctan2(10, 104)\n",
    "    se = ((z-127-10)/(q))   \n",
    "    epsilon = np.arctan2(se, np.sqrt(1-(se**2)))\n",
    "    theta3 = (gamma + epsilon)\n",
    "\n",
    "    # Para theta 1:\n",
    "    j = ((104*np.cos(theta3)) + (10*np.sin(theta3)))\n",
    "    r = np.sqrt((x**2) + (y**2))\n",
    "    alpha = np.arctan2(y, x)\n",
    "    h = np.sqrt((30**2) + ((76+j)**2))\n",
    "    cb = (((r**2) + (79**2) - (h**2))/(2*r*79))\n",
    "    beta = np.arctan2(k1*np.sqrt(1-(cb**2)), cb)\n",
    "    theta1 = (alpha + beta)\n",
    "\n",
    "    # Para theta 2:\n",
    "    phi = np.arctan2(30, (76+j))\n",
    "    cg = (((79**2) + (h**2) - (r**2))/(2*79*h))\n",
    "    gamma = np.arctan2(k2*np.sqrt(1-(cg**2)), cg)\n",
    "    theta2 = (np.pi - gamma - phi)\n",
    "\n",
    "    return np.degrees(theta1), np.degrees(theta2), np.degrees(theta3)\n",
    "\n",
    "\n",
    "\n",
    "def left_elbow(x, y, z, k1, k2):\n",
    "    # Para theta 3:\n",
    "    q = np.sqrt((104**2) + (10**2))\n",
    "    gamma = np.arctan2(10, 104)\n",
    "    se = ((z-127-10)/(q))\n",
    "    epsilon = np.arctan2(se, np.sqrt(1-(se**2)))\n",
    "    theta3 = (gamma + epsilon)\n",
    "\n",
    "    # Para theta 1:\n",
    "    j = ((104*np.cos(theta3)) + (10*np.sin(theta3)))\n",
    "    r = np.sqrt((x**2) + (y**2))\n",
    "    alpha = np.arctan2(y, x)\n",
    "    h = np.sqrt((30**2) + ((76+j)**2))\n",
    "    cb = (((r**2) + (79**2) - (h**2))/(2*r*79))\n",
    "    beta = np.arctan2(k1*np.sqrt(1-(cb**2)), cb)\n",
    "    theta1 = -(alpha + beta)\n",
    "\n",
    "    # Para theta 2:\n",
    "    phi = np.arctan2(30, 76)\n",
    "    cg = (((79**2) + (h**2) - (r**2))/(2*79*h))\n",
    "    gamma = np.arctan2(k2*np.sqrt(1-(cg**2)), cg)\n",
    "    theta2 = (gamma - phi - np.pi)\n",
    "\n",
    "    return np.degrees(theta1), np.degrees(theta2), np.degrees(theta3)"
   ]
  },
  {
   "cell_type": "markdown",
   "metadata": {},
   "source": [
    "<h3 align='center'> Quadrante Superior Direito: <h3>"
   ]
  },
  {
   "cell_type": "code",
   "execution_count": 8,
   "metadata": {},
   "outputs": [
    {
     "name": "stdout",
     "output_type": "stream",
     "text": [
      "                         𝜽₁         𝜽₂         𝜽₃    \n",
      " Cotovelo direito:    -13.18°    324.02°     28.71°  \n",
      " Cotovelo esquerdo:    13.18°    -47.63°     28.71°  \n"
     ]
    }
   ],
   "source": [
    "sol_d = right_elbow(212.106, -128.533, 178.189, 1, -1)\n",
    "sol_e = left_elbow(212.106, -128.533, 178.189, 1, 1)\n",
    "print(''.center(20), '𝜽₁'.center(10), '𝜽₂'.center(10), '𝜽₃'.center(10))\n",
    "print('Cotovelo direito:'.center(20), f'{str(round(sol_d[0], 2)):.6}°'.center(10), f'{str(round(sol_d[1], 2)):.6}°'.center(10), f'{str(round(sol_d[2], 2)):.6}°'.center(10))\n",
    "print('Cotovelo esquerdo:'.center(20), f'{str(round(sol_e[0], 2)):.6}°'.center(10), f'{str(round(sol_e[1], 2)):.6}°'.center(10), f'{str(round(sol_e[2], 2)):.6}°'.center(10))"
   ]
  },
  {
   "cell_type": "markdown",
   "metadata": {},
   "source": [
    "<h3 align='center'> Quadrante Inferior Esquerdo: <h3>"
   ]
  },
  {
   "cell_type": "code",
   "execution_count": 4,
   "metadata": {},
   "outputs": [
    {
     "name": "stdout",
     "output_type": "stream",
     "text": [
      "                         𝜽₁         𝜽₂         𝜽₃    \n",
      " Cotovelo direito:     49.69°     1.64°     -53.61°  \n",
      " Cotovelo esquerdo:   -49.69°    -36.21°    -53.61°  \n"
     ]
    }
   ],
   "source": [
    "sol_d = right_elbow(160.093, 136.607, 47.347, 1, 1)\n",
    "sol_e = left_elbow(160.093, 136.607, 47.347, 1, 1)\n",
    "print(''.center(20), '𝜽₁'.center(10), '𝜽₂'.center(10), '𝜽₃'.center(10))\n",
    "print('Cotovelo direito:'.center(20), f'{str(round(sol_d[0], 2)):.6}°'.center(10), f'{str(round(sol_d[1], 2)):.6}°'.center(10), f'{str(round(sol_d[2], 2)):.6}°'.center(10))\n",
    "print('Cotovelo esquerdo:'.center(20), f'{str(round(sol_e[0], 2)):.6}°'.center(10), f'{str(round(sol_e[1], 2)):.6}°'.center(10), f'{str(round(sol_e[2], 2)):.6}°'.center(10))"
   ]
  },
  {
   "cell_type": "markdown",
   "metadata": {},
   "source": [
    "<h3 align='center'> Quadrante Superior Esquerdo: <h3>"
   ]
  },
  {
   "cell_type": "code",
   "execution_count": 5,
   "metadata": {},
   "outputs": [
    {
     "name": "stdout",
     "output_type": "stream",
     "text": [
      "                         𝜽₁         𝜽₂         𝜽₃    \n",
      " Cotovelo direito:     80.73°     29.22°     28.22°  \n",
      " Cotovelo esquerdo:   -80.73°    -60.63°     28.22°  \n"
     ]
    }
   ],
   "source": [
    "sol_d = right_elbow(143.47, 194.223, 177.366, 1, 1)\n",
    "sol_e = left_elbow(143.47, 194.223, 177.366, 1, 1)\n",
    "print(''.center(20), '𝜽₁'.center(10), '𝜽₂'.center(10), '𝜽₃'.center(10))\n",
    "print('Cotovelo direito:'.center(20), f'{str(round(sol_d[0], 2)):.6}°'.center(10), f'{str(round(sol_d[1], 2)):.6}°'.center(10), f'{str(round(sol_d[2], 2)):.6}°'.center(10))\n",
    "print('Cotovelo esquerdo:'.center(20), f'{str(round(sol_e[0], 2)):.6}°'.center(10), f'{str(round(sol_e[1], 2)):.6}°'.center(10), f'{str(round(sol_e[2], 2)):.6}°'.center(10))"
   ]
  },
  {
   "cell_type": "markdown",
   "metadata": {},
   "source": [
    "<h3 align='center'> Quadrante Inferior Direito: <h3>"
   ]
  },
  {
   "cell_type": "code",
   "execution_count": 6,
   "metadata": {},
   "outputs": [
    {
     "name": "stdout",
     "output_type": "stream",
     "text": [
      "                         𝜽₁         𝜽₂         𝜽₃    \n",
      " Cotovelo direito:    -21.91°     -0.64°    -53.61°  \n",
      " Cotovelo esquerdo:    21.91°    -33.93°    -53.61°  \n"
     ]
    }
   ],
   "source": [
    "sol_d = right_elbow(183.216, -104.49, 47.347, 1, 1)\n",
    "sol_e = left_elbow(183.216, -104.49, 47.347, 1, 1)\n",
    "print(''.center(20), '𝜽₁'.center(10), '𝜽₂'.center(10), '𝜽₃'.center(10))\n",
    "print('Cotovelo direito:'.center(20), f'{str(round(sol_d[0], 2)):.6}°'.center(10), f'{str(round(sol_d[1], 2)):.6}°'.center(10), f'{str(round(sol_d[2], 2)):.6}°'.center(10))\n",
    "print('Cotovelo esquerdo:'.center(20), f'{str(round(sol_e[0], 2)):.6}°'.center(10), f'{str(round(sol_e[1], 2)):.6}°'.center(10), f'{str(round(sol_e[2], 2)):.6}°'.center(10))"
   ]
  }
 ],
 "metadata": {
  "kernelspec": {
   "display_name": "Python 3",
   "language": "python",
   "name": "python3"
  },
  "language_info": {
   "codemirror_mode": {
    "name": "ipython",
    "version": 3
   },
   "file_extension": ".py",
   "mimetype": "text/x-python",
   "name": "python",
   "nbconvert_exporter": "python",
   "pygments_lexer": "ipython3",
   "version": "3.10.12"
  },
  "orig_nbformat": 4
 },
 "nbformat": 4,
 "nbformat_minor": 2
}

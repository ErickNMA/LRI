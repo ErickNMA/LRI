{
 "cells": [
  {
   "cell_type": "code",
   "execution_count": 1,
   "metadata": {},
   "outputs": [
    {
     "name": "stdout",
     "output_type": "stream",
     "text": [
      "r = 248\n",
      "h = 165\n",
      "Cb = 1.03\n"
     ]
    },
    {
     "name": "stderr",
     "output_type": "stream",
     "text": [
      "C:\\Users\\erick\\AppData\\Local\\Temp\\ipykernel_12824\\2746873295.py:22: RuntimeWarning: invalid value encountered in sqrt\n",
      "  beta = np.arctan2(np.sqrt(1-(cb**2)), cb)\n",
      "C:\\Users\\erick\\AppData\\Local\\Temp\\ipykernel_12824\\2746873295.py:28: RuntimeWarning: invalid value encountered in sqrt\n",
      "  gamma = np.arctan2(np.sqrt(1-(cg**2)), cg)\n"
     ]
    }
   ],
   "source": [
    "import numpy as np\n",
    "\n",
    "x, y, z = (212.106, -128.533, 178.189)\n",
    "\n",
    "# Para theta 3:\n",
    "q = np.sqrt((104**2) + (10**2))\n",
    "gamma = np.arctan2(10, 104)\n",
    "se = ((z-127-10)/(q))   \n",
    "epsilon = np.arctan2(se, np.sqrt(1-(se**2)))\n",
    "theta3 = (gamma + epsilon)\n",
    "\n",
    "# Para theta 1:\n",
    "j = ((104*np.cos(theta3)) - (10*np.sin(theta3)))\n",
    "r = np.sqrt((x**2) + (y**2))\n",
    "print(f'r = {r:.0f}')\n",
    "alpha = np.arctan2(y, x)\n",
    "#print(f'alpha = {np.degrees(alpha):.0f}')\n",
    "h = np.sqrt((30**2) + ((76+j)**2))\n",
    "print(f'h = {h:.0f}')\n",
    "cb = (((r**2) + (79**2) - (h**2))/(2*r*79))\n",
    "print(f'Cb = {cb:.2f}')\n",
    "beta = np.arctan2(np.sqrt(1-(cb**2)), cb)\n",
    "theta1 = (alpha + beta)\n",
    "\n",
    "# Para theta 2:\n",
    "phi = np.arctan2(30, (76+j))\n",
    "cg = (((79**2) + (h**2) - (r**2))/(2*79*h))\n",
    "gamma = np.arctan2(np.sqrt(1-(cg**2)), cg)\n",
    "theta2 = (np.pi - gamma - phi)\n",
    "\n",
    "sol_d = (np.degrees(theta1), np.degrees(theta2), np.degrees(theta3))\n",
    "\n",
    "#print('𝜽₁'.center(10), '𝜽₂'.center(10), '𝜽₃'.center(10))\n",
    "#print(f'{str(round(sol_d[0], 2)):.6}°'.center(10), f'{str(round(sol_d[1], 2)):.6}°'.center(10), f'{str(round(sol_d[2], 2)):.6}°'.center(10))"
   ]
  }
 ],
 "metadata": {
  "kernelspec": {
   "display_name": "Python 3",
   "language": "python",
   "name": "python3"
  },
  "language_info": {
   "codemirror_mode": {
    "name": "ipython",
    "version": 3
   },
   "file_extension": ".py",
   "mimetype": "text/x-python",
   "name": "python",
   "nbconvert_exporter": "python",
   "pygments_lexer": "ipython3",
   "version": "3.10.11"
  },
  "orig_nbformat": 4
 },
 "nbformat": 4,
 "nbformat_minor": 2
}

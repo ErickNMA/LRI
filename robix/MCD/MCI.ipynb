{
 "cells": [
  {
   "cell_type": "code",
   "execution_count": 1,
   "metadata": {},
   "outputs": [],
   "source": [
    "import numpy as np"
   ]
  },
  {
   "cell_type": "code",
   "execution_count": 2,
   "metadata": {},
   "outputs": [],
   "source": [
    "def right_elbow(x, y, z):\n",
    "    # Para theta 3:\n",
    "    q = np.sqrt((104**2) + (10**2))\n",
    "    gamma = np.arctan2(10, 104)\n",
    "    se = ((z-127-10)/(q))\n",
    "    epsilon = np.arctan2(se, np.sqrt(1-(se**2)))\n",
    "    theta3 = (gamma + epsilon)\n",
    "\n",
    "    # Para theta 1:\n",
    "    j = ((104*np.cos(theta3)) - (10*np.sin(theta3)))\n",
    "    r = np.sqrt((x**2) + (y**2))\n",
    "    alpha = np.arctan2(y, x)\n",
    "    h = np.sqrt((30**2) + ((76+j)**2))\n",
    "    cb = (((r**2) + (79**2) - (h**2))/(2*r*79))\n",
    "    print(cb)\n",
    "    beta = np.arctan2(np.sqrt(1-(cb**2)), cb)\n",
    "    theta1 = (alpha + beta)\n",
    "\n",
    "    # Para theta 2:\n",
    "    #w = np.sqrt(((x - ())**2) + (()**2))\n",
    "    theta2 = 0\n",
    "\n",
    "    return np.degrees(theta1), np.degrees(theta2), np.degrees(theta3)\n",
    "\n",
    "\n",
    "\n",
    "def left_elbow(x, y, z):\n",
    "    # Para theta 3:\n",
    "    q = np.sqrt((104**2) + (10**2))\n",
    "    gamma = np.arctan2(10, 104)\n",
    "    se = ((z-127-10)/(q))\n",
    "    epsilon = np.arctan2(se, np.sqrt(1-(se**2)))\n",
    "    theta3 = (gamma + epsilon)\n",
    "\n",
    "    # Para theta 1:\n",
    "    j = ((104*np.cos(theta3)) - (10*np.sin(theta3)))\n",
    "    r = np.sqrt((x**2) + (y**2))\n",
    "    alpha = np.arctan2(y, x)\n",
    "    h = np.sqrt((30**2) + ((76+j)**2))\n",
    "    cb = (((r**2) + (79**2) - (h**2))/(2*r*79))\n",
    "    beta = np.arctan2(np.sqrt(1-(cb**2)), cb)\n",
    "    theta1 = -(alpha + beta)\n",
    "\n",
    "    # Para theta 2:\n",
    "    #w = np.sqrt(((x - ())**2) + (()**2))\n",
    "    theta2 = 0\n",
    "\n",
    "    return np.degrees(theta1), np.degrees(theta2), np.degrees(theta3)"
   ]
  },
  {
   "cell_type": "code",
   "execution_count": 3,
   "metadata": {},
   "outputs": [
    {
     "name": "stdout",
     "output_type": "stream",
     "text": [
      "0.8537601037359656\n"
     ]
    },
    {
     "data": {
      "text/plain": [
       "(71.85102731436615, 0.0, -53.61052434007251)"
      ]
     },
     "execution_count": 3,
     "metadata": {},
     "output_type": "execute_result"
    }
   ],
   "source": [
    "right_elbow(160.093, 136.607, 47.347)"
   ]
  },
  {
   "cell_type": "code",
   "execution_count": 4,
   "metadata": {},
   "outputs": [
    {
     "data": {
      "text/plain": [
       "(-71.85102731436615, 0.0, -53.61052434007251)"
      ]
     },
     "execution_count": 4,
     "metadata": {},
     "output_type": "execute_result"
    }
   ],
   "source": [
    "left_elbow(160.093, 136.607, 47.347)"
   ]
  }
 ],
 "metadata": {
  "kernelspec": {
   "display_name": "Python 3",
   "language": "python",
   "name": "python3"
  },
  "language_info": {
   "codemirror_mode": {
    "name": "ipython",
    "version": 3
   },
   "file_extension": ".py",
   "mimetype": "text/x-python",
   "name": "python",
   "nbconvert_exporter": "python",
   "pygments_lexer": "ipython3",
   "version": "3.10.11"
  },
  "orig_nbformat": 4
 },
 "nbformat": 4,
 "nbformat_minor": 2
}

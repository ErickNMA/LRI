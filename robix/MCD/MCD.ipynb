{
 "cells": [
  {
   "cell_type": "markdown",
   "metadata": {},
   "source": [
    "<h1 align='center'> Modelo Cinemático Direto <h1>"
   ]
  },
  {
   "cell_type": "code",
   "execution_count": 1,
   "metadata": {},
   "outputs": [],
   "source": [
    "from FKM import *"
   ]
  },
  {
   "cell_type": "markdown",
   "metadata": {},
   "source": [
    "<h3 align='center'> Tabela de Dennavit-Hartenberg e Transformações Homogêneas: <h3>"
   ]
  },
  {
   "cell_type": "code",
   "execution_count": 2,
   "metadata": {},
   "outputs": [],
   "source": [
    "robix = Robot()\n",
    "\n",
    "robix.addDHLine(0, 137, 0, rad(180))\n",
    "robix.addDHLine(theta1, 0, 79, rad(180))\n",
    "robix.addDHLine(theta2, 0, 76, rad(90))\n",
    "robix.addNonDHLine(((104*cos(theta3))+(10*sin(theta3))), ((-10*cos(theta3))+(104*sin(theta3))), -30, 0, 0, (theta3-rad(90)))"
   ]
  },
  {
   "cell_type": "markdown",
   "metadata": {},
   "source": [
    "##### $$H_0^{-1}:$$"
   ]
  },
  {
   "cell_type": "code",
   "execution_count": 3,
   "metadata": {},
   "outputs": [
    {
     "data": {
      "image/png": "[encoded data removed]",
      "text/latex": [
       "$\\displaystyle \\left[\\begin{matrix}1 & 0 & 0 & 0\\\\0 & -1 & 0 & 0\\\\0 & 0 & -1 & 137\\\\0 & 0 & 0 & 1\\end{matrix}\\right]$"
      ],
      "text/plain": [
       "⎡1  0   0    0 ⎤\n",
       "⎢              ⎥\n",
       "⎢0  -1  0    0 ⎥\n",
       "⎢              ⎥\n",
       "⎢0  0   -1  137⎥\n",
       "⎢              ⎥\n",
       "⎣0  0   0    1 ⎦"
      ]
     },
     "execution_count": 3,
     "metadata": {},
     "output_type": "execute_result"
    }
   ],
   "source": [
    "robix.HTM(0, 1)"
   ]
  },
  {
   "cell_type": "markdown",
   "metadata": {},
   "source": [
    "##### $$A_1:$$"
   ]
  },
  {
   "cell_type": "code",
   "execution_count": 4,
   "metadata": {},
   "outputs": [
    {
     "data": {
      "image/png": "[encoded data removed]",
      "text/latex": [
       "$\\displaystyle \\left[\\begin{matrix}c_{1} & s_{1} & 0 & 79 c_{1}\\\\s_{1} & - c_{1} & 0 & 79 s_{1}\\\\0 & 0 & -1 & 0\\\\0 & 0 & 0 & 1\\end{matrix}\\right]$"
      ],
      "text/plain": [
       "⎡c₁  s₁   0   79⋅c₁⎤\n",
       "⎢                  ⎥\n",
       "⎢s₁  -c₁  0   79⋅s₁⎥\n",
       "⎢                  ⎥\n",
       "⎢0    0   -1    0  ⎥\n",
       "⎢                  ⎥\n",
       "⎣0    0   0     1  ⎦"
      ]
     },
     "execution_count": 4,
     "metadata": {},
     "output_type": "execute_result"
    }
   ],
   "source": [
    "robix.HTM(1, 2)"
   ]
  },
  {
   "cell_type": "markdown",
   "metadata": {},
   "source": [
    "##### $$A_2:$$"
   ]
  },
  {
   "cell_type": "code",
   "execution_count": 5,
   "metadata": {},
   "outputs": [
    {
     "data": {
      "image/png": "[encoded data removed]",
      "text/latex": [
       "$\\displaystyle \\left[\\begin{matrix}c_{2} & 0 & s_{2} & 76 c_{2}\\\\s_{2} & 0 & - c_{2} & 76 s_{2}\\\\0 & 1 & 0 & 0\\\\0 & 0 & 0 & 1\\end{matrix}\\right]$"
      ],
      "text/plain": [
       "⎡c₂  0  s₂   76⋅c₂⎤\n",
       "⎢                 ⎥\n",
       "⎢s₂  0  -c₂  76⋅s₂⎥\n",
       "⎢                 ⎥\n",
       "⎢0   1   0     0  ⎥\n",
       "⎢                 ⎥\n",
       "⎣0   0   0     1  ⎦"
      ]
     },
     "execution_count": 5,
     "metadata": {},
     "output_type": "execute_result"
    }
   ],
   "source": [
    "robix.HTM(2, 3)"
   ]
  },
  {
   "cell_type": "markdown",
   "metadata": {},
   "source": [
    "##### $$H_3^2:$$"
   ]
  },
  {
   "cell_type": "code",
   "execution_count": 6,
   "metadata": {},
   "outputs": [
    {
     "data": {
      "image/png": "[encoded data removed]",
      "text/latex": [
       "$\\displaystyle \\left[\\begin{matrix}s_{3} & c_{3} & 0 & 104 c_{3} + 10 s_{3}\\\\- c_{3} & s_{3} & 0 & - 10 c_{3} + 104 s_{3}\\\\0 & 0 & 1 & -30\\\\0 & 0 & 0 & 1\\end{matrix}\\right]$"
      ],
      "text/plain": [
       "⎡s₃   c₃  0  104⋅c₃ + 10⋅s₃ ⎤\n",
       "⎢                           ⎥\n",
       "⎢-c₃  s₃  0  -10⋅c₃ + 104⋅s₃⎥\n",
       "⎢                           ⎥\n",
       "⎢ 0   0   1        -30      ⎥\n",
       "⎢                           ⎥\n",
       "⎣ 0   0   0         1       ⎦"
      ]
     },
     "execution_count": 6,
     "metadata": {},
     "output_type": "execute_result"
    }
   ],
   "source": [
    "robix.HTM(3, 4)"
   ]
  },
  {
   "cell_type": "markdown",
   "metadata": {},
   "source": [
    "##### $$H_4^0:$$"
   ]
  },
  {
   "cell_type": "code",
   "execution_count": 7,
   "metadata": {},
   "outputs": [
    {
     "data": {
      "image/png": "[encoded data removed]",
      "text/latex": [
       "$\\displaystyle \\left[\\begin{matrix}c_{(1-2)} s_{3} & c_{3} c_{(1-2)} & - s_{(1-2)} & 79 c_{1} + 2 c_{(1-2)} \\left(52 c_{3} + 5 s_{3}\\right) + 76 c_{(1-2)} + 30 s_{(1-2)}\\\\- s_{3} s_{(1-2)} & - c_{3} s_{(1-2)} & - c_{(1-2)} & 30 c_{(1-2)} - 79 s_{1} - 2 s_{(1-2)} \\left(52 c_{3} + 5 s_{3}\\right) - 76 s_{(1-2)}\\\\- c_{3} & s_{3} & 0 & - 10 c_{3} + 104 s_{3} + 137\\\\0 & 0 & 0 & 1\\end{matrix}\\right]$"
      ],
      "text/plain": [
       "⎡c_{(1-2)}⋅s₃   c₃⋅c_{(1-2)}   -s_{(1-2)}  79⋅c₁ + 2⋅c_{(1-2)}⋅(52⋅c₃ + 5⋅s₃) \n",
       "⎢                                                                             \n",
       "⎢-s₃⋅s_{(1-2)}  -c₃⋅s_{(1-2)}  -c_{(1-2)}  30⋅c_{(1-2)} - 79⋅s₁ - 2⋅s_{(1-2)}⋅\n",
       "⎢                                                                             \n",
       "⎢     -c₃            s₃            0                            -10⋅c₃ + 104⋅s\n",
       "⎢                                                                             \n",
       "⎣      0              0            0                                      1   \n",
       "\n",
       "+ 76⋅c_{(1-2)} + 30⋅s_{(1-2)}⎤\n",
       "                             ⎥\n",
       "(52⋅c₃ + 5⋅s₃) - 76⋅s_{(1-2)}⎥\n",
       "                             ⎥\n",
       "₃ + 137                      ⎥\n",
       "                             ⎥\n",
       "                             ⎦"
      ]
     },
     "execution_count": 7,
     "metadata": {},
     "output_type": "execute_result"
    }
   ],
   "source": [
    "robix.HTM(0, 4)"
   ]
  },
  {
   "cell_type": "markdown",
   "metadata": {},
   "source": [
    "<h1 align='center'> Validação: <h1>"
   ]
  },
  {
   "cell_type": "markdown",
   "metadata": {},
   "source": [
    "<h3 align='center'> Quadrante Superior Direito: <h3>"
   ]
  },
  {
   "cell_type": "code",
   "execution_count": 8,
   "metadata": {},
   "outputs": [
    {
     "data": {
      "image/png": "[encoded data removed]",
      "text/latex": [
       "$\\displaystyle \\left[\\begin{matrix}0.314 & 0.573 & -0.757 & 212.028\\\\-0.364 & -0.664 & -0.653 & -128.66\\\\-0.877 & 0.48 & 0 & 178.172\\\\0 & 0 & 0 & 1.0\\end{matrix}\\right]$"
      ],
      "text/plain": [
       "⎡0.314   0.573   -0.757  212.028⎤\n",
       "⎢                               ⎥\n",
       "⎢-0.364  -0.664  -0.653  -128.66⎥\n",
       "⎢                               ⎥\n",
       "⎢-0.877   0.48     0     178.172⎥\n",
       "⎢                               ⎥\n",
       "⎣  0       0       0       1.0  ⎦"
      ]
     },
     "execution_count": 8,
     "metadata": {},
     "output_type": "execute_result"
    }
   ],
   "source": [
    "robix.POSE([rad(13.20), -rad(36.00), rad(28.70)])"
   ]
  },
  {
   "cell_type": "markdown",
   "metadata": {},
   "source": [
    "<h3 align='center'> Quadrante Inferior Esquerdo: <h3>"
   ]
  },
  {
   "cell_type": "code",
   "execution_count": 9,
   "metadata": {},
   "outputs": [
    {
     "data": {
      "image/png": "[encoded data removed]",
      "text/latex": [
       "$\\displaystyle \\left[\\begin{matrix}-0.676 & 0.498 & 0.543 & 160.093\\\\-0.437 & 0.322 & -0.84 & 136.607\\\\-0.593 & -0.805 & 0 & 47.347\\\\0 & 0 & 0 & 1.0\\end{matrix}\\right]$"
      ],
      "text/plain": [
       "⎡-0.676  0.498   0.543  160.093⎤\n",
       "⎢                              ⎥\n",
       "⎢-0.437  0.322   -0.84  136.607⎥\n",
       "⎢                              ⎥\n",
       "⎢-0.593  -0.805    0    47.347 ⎥\n",
       "⎢                              ⎥\n",
       "⎣  0       0       0      1.0  ⎦"
      ]
     },
     "execution_count": 9,
     "metadata": {},
     "output_type": "execute_result"
    }
   ],
   "source": [
    "robix.POSE([-rad(31.26), rad(1.64), -rad(53.61)])"
   ]
  }
 ],
 "metadata": {
  "kernelspec": {
   "display_name": "Python 3",
   "language": "python",
   "name": "python3"
  },
  "language_info": {
   "codemirror_mode": {
    "name": "ipython",
    "version": 3
   },
   "file_extension": ".py",
   "mimetype": "text/x-python",
   "name": "python",
   "nbconvert_exporter": "python",
   "pygments_lexer": "ipython3",
   "version": "3.10.11"
  },
  "orig_nbformat": 4
 },
 "nbformat": 4,
 "nbformat_minor": 2
}

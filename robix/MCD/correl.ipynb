{
 "cells": [
  {
   "cell_type": "markdown",
   "metadata": {},
   "source": [
    "##### Quadrante Superior Direito:"
   ]
  },
  {
   "cell_type": "code",
   "execution_count": 1,
   "metadata": {},
   "outputs": [
    {
     "name": "stdout",
     "output_type": "stream",
     "text": [
      "Theta1 = 13.2\n",
      "Theta2 = -36.0\n",
      "Theta3 = 28.7\n"
     ]
    }
   ],
   "source": [
    "j1 = 350\n",
    "j2 = -920\n",
    "j3 = 1040\n",
    "\n",
    "theta1 = ((0.04899*j1)-3.9681)\n",
    "theta2 = ((0.04829*j2)+8.4508)\n",
    "theta3 = ((0.04959*j3)-22.8605)\n",
    "\n",
    "print(f'Theta1 = {round(theta1, 1)}')\n",
    "print(f'Theta2 = {round(theta2, 1)}')\n",
    "print(f'Theta3 = {round(theta3, 1)}')"
   ]
  },
  {
   "cell_type": "markdown",
   "metadata": {},
   "source": [
    "##### Quadrante Inferior Esquerdo:"
   ]
  },
  {
   "cell_type": "code",
   "execution_count": 2,
   "metadata": {},
   "outputs": [
    {
     "name": "stdout",
     "output_type": "stream",
     "text": [
      "Theta1 = -31.26\n",
      "Theta2 = 1.64\n",
      "Theta3 = -53.61\n"
     ]
    }
   ],
   "source": [
    "j1 = -557\n",
    "j2 = -141\n",
    "j3 = -620\n",
    "\n",
    "theta1 = ((0.04899*j1)-3.9681)\n",
    "theta2 = ((0.04829*j2)+8.4508)\n",
    "theta3 = ((0.04959*j3)-22.8605)\n",
    "\n",
    "print(f'Theta1 = {round(theta1, 2)}')\n",
    "print(f'Theta2 = {round(theta2, 2)}')\n",
    "print(f'Theta3 = {round(theta3, 2)}')"
   ]
  }
 ],
 "metadata": {
  "kernelspec": {
   "display_name": "Python 3",
   "language": "python",
   "name": "python3"
  },
  "language_info": {
   "codemirror_mode": {
    "name": "ipython",
    "version": 3
   },
   "file_extension": ".py",
   "mimetype": "text/x-python",
   "name": "python",
   "nbconvert_exporter": "python",
   "pygments_lexer": "ipython3",
   "version": "3.10.11"
  },
  "orig_nbformat": 4
 },
 "nbformat": 4,
 "nbformat_minor": 2
}

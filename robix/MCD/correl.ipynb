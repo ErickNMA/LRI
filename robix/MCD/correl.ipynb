{
 "cells": [
  {
   "cell_type": "markdown",
   "metadata": {},
   "source": [
    "<h1 align='center'> Validação <h1>"
   ]
  },
  {
   "cell_type": "markdown",
   "metadata": {},
   "source": [
    "<h3 align='center'> Quadrante Superior Direito: <h3>"
   ]
  },
  {
   "cell_type": "code",
   "execution_count": 1,
   "metadata": {},
   "outputs": [
    {
     "name": "stdout",
     "output_type": "stream",
     "text": [
      "θ₁ = 13.18\n",
      "θ₂ = -35.98\n",
      "θ₃ = 28.71\n"
     ]
    }
   ],
   "source": [
    "j1 = 350\n",
    "j2 = -920\n",
    "j3 = 1040\n",
    "\n",
    "theta1 = ((0.04899*j1)-3.9681)\n",
    "theta2 = ((0.04829*j2)+8.4508)\n",
    "theta3 = ((0.04959*j3)-22.8605)\n",
    "\n",
    "print(f'θ₁ = {round(theta1, 2)}')\n",
    "print(f'θ₂ = {round(theta2, 2)}')\n",
    "print(f'θ₃ = {round(theta3, 2)}')"
   ]
  },
  {
   "cell_type": "markdown",
   "metadata": {},
   "source": [
    "<h3 align='center'> Quadrante Inferior Esquerdo: <h3>"
   ]
  },
  {
   "cell_type": "code",
   "execution_count": 2,
   "metadata": {},
   "outputs": [
    {
     "name": "stdout",
     "output_type": "stream",
     "text": [
      "θ₁ = -31.26\n",
      "θ₂ = 1.64\n",
      "θ₃ = -53.61\n"
     ]
    }
   ],
   "source": [
    "j1 = -557\n",
    "j2 = -141\n",
    "j3 = -620\n",
    "\n",
    "theta1 = ((0.04899*j1)-3.9681)\n",
    "theta2 = ((0.04829*j2)+8.4508)\n",
    "theta3 = ((0.04959*j3)-22.8605)\n",
    "\n",
    "print(f'θ₁ = {round(theta1, 2)}')\n",
    "print(f'θ₂ = {round(theta2, 2)}')\n",
    "print(f'θ₃ = {round(theta3, 2)}')"
   ]
  }
 ],
 "metadata": {
  "kernelspec": {
   "display_name": "Python 3",
   "language": "python",
   "name": "python3"
  },
  "language_info": {
   "codemirror_mode": {
    "name": "ipython",
    "version": 3
   },
   "file_extension": ".py",
   "mimetype": "text/x-python",
   "name": "python",
   "nbconvert_exporter": "python",
   "pygments_lexer": "ipython3",
   "version": "3.10.11"
  },
  "orig_nbformat": 4
 },
 "nbformat": 4,
 "nbformat_minor": 2
}
